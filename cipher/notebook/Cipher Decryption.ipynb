{
 "cells": [
  {
   "cell_type": "markdown",
   "metadata": {},
   "source": [
    "# Cipher Decryption with Genetic Algorithms"
   ]
  },
  {
   "cell_type": "markdown",
   "metadata": {},
   "source": [
    "All the modules has been built in model directory"
   ]
  },
  {
   "cell_type": "code",
   "execution_count": 1,
   "metadata": {},
   "outputs": [],
   "source": [
    "import os\n",
    "os.chdir(\"..\")\n",
    "from model.genetic_algorithm import GeneticAlgorithm\n",
    "from model.language_model import LanguageModel\n",
    "from model.encoder import Encoder"
   ]
  },
  {
   "cell_type": "markdown",
   "metadata": {},
   "source": [
    "initialize genetic algorithm object and train"
   ]
  },
  {
   "cell_type": "code",
   "execution_count": 2,
   "metadata": {},
   "outputs": [],
   "source": [
    "original_message = \"\"\"I then lounged down the street and found,\n",
    "as I expected, that there was a mews in a lane which runs down\n",
    "by one wall of the garden. I lent the ostlers a hand in rubbing\n",
    "down their horses, and received in exchange twopence, a glass of\n",
    "half-and-half, two fills of shag tobacco, and as much information\n",
    "as I could desire about Miss Adler, to say nothing of half a dozen\n",
    "other people in the neighbourhood in whom I was not in the least\n",
    "interested, but whose biographies I was compelled to listen to.\n",
    "\"\"\""
   ]
  },
  {
   "cell_type": "code",
   "execution_count": 3,
   "metadata": {},
   "outputs": [
    {
     "name": "stdout",
     "output_type": "stream",
     "text": [
      "I then lounged down the street and found,\n",
      "as I expected, that there was a mews in a lane which runs down\n",
      "by one wall of the garden. I lent the ostlers a hand in rubbing\n",
      "down their horses, and received in exchange twopence, a glass of\n",
      "half-and-half, two fills of shag tobacco, and as much information\n",
      "as I could desire about Miss Adler, to say nothing of half a dozen\n",
      "other people in the neighbourhood in whom I was not in the least\n",
      "interested, but whose biographies I was compelled to listen to.\n",
      "\n"
     ]
    }
   ],
   "source": [
    "print(original_message)"
   ]
  },
  {
   "cell_type": "markdown",
   "metadata": {},
   "source": [
    "train the encryption mapping"
   ]
  },
  {
   "cell_type": "code",
   "execution_count": 4,
   "metadata": {},
   "outputs": [
    {
     "name": "stdout",
     "output_type": "stream",
     "text": [
      "\n",
      " iter: 0, log loss: -2048.448229838658, best log loss so far: -1718.3035964395788 \n",
      " decoded_message: \n",
      " e akpm lyhmdpo oygm akp rabppa imo vyhmo  ir e pjnpfapo  akia akpbp gir i qpgr em i limp gkefk bhmr oygm ts ymp gill yv akp dibopm  e lpma akp yralpbr i kimo em bhttemd oygm akpeb kybrpr  imo bpfpeupo em pjfkimdp agynpmfp  i dlirr yv kilv imo kilv  agy vellr yv rkid aytiffy  imo ir qhfk emvybqiaeym ir e fyhlo oprebp ityha qerr iolpb  ay ris myakemd yv kilv i oycpm yakpb npynlp em akp mpedktyhbkyyo em gkyq e gir mya em akp lpira emapbprapo  tha gkyrp teydbinkepr e gir fyqnpllpo ay lerapm ay   \n",
      "\n",
      "\n",
      " iter: 50, log loss: -1377.7305029001677, best log loss so far: -1129.7156065357378 \n",
      " decoded_message: \n",
      " r thea doualen nowa the stmeet ian youan  is r eqvegten  thit theme wis i pews ra i diae whrgh muas nowa bz oae widd oy the limnea  r deat the ostdems i hian ra mubbral nowa therm homses  ian megercen ra eqghiale twoveage  i ldiss oy hidy ian hidy  two yrdds oy shil tobiggo  ian is pugh rayompitroa is r goudn nesrme ibout prss indem  to siz aothral oy hidy i nofea othem veovde ra the aerlhboumhoon ra whop r wis aot ra the deist ratemesten  but whose brolmivhres r wis gopvedden to drstea to   \n",
      "\n",
      "\n",
      " iter: 100, log loss: -1265.144786677891, best log loss so far: -947.2410369498335 \n",
      " decoded_message: \n",
      " i then lounged down the street and yound  as i expected  that there was a mews in a lane which runs down fj one wall oy the garden  i lent the ostlers a hand in ruffing down their horses  and received in exchange twopence  a glass oy haly and haly  two yills oy shag tofacco  and as much inyormation as i could desire afout miss adler  to saj nothing oy haly a doben other people in the neighfourhood in whom i was not in the least interested  fut whose fiographies i was compelled to listen to   \n",
      "\n",
      "\n",
      " iter: 150, log loss: -1204.6471314649893, best log loss so far: -929.9491082513806 \n",
      " decoded_message: \n",
      " i then lounged down the street and found  as i expected  that there was a mews in a lane which runs down by one wall of the garden  i lent the ostlers a hand in rubbing down their horses  and receiked in exchange twopence  a glass of half and half  two fills of shag tobacco  and as much information as i could desire about miss adler  to say nothing of half a doven other people in the neighbourhood in whom i was not in the least interested  but whose biographies i was compelled to listen to   \n",
      "\n",
      "\n",
      " iter: 200, log loss: -1173.7694813992778, best log loss so far: -929.5902922650557 \n",
      " decoded_message: \n",
      " i then lounged down the street and found  as i expected  that there was a mews in a lane which runs down by one wall of the garden  i lent the ostlers a hand in rubbing down their horses  and received in exchange twopence  a glass of half and half  two fills of shag tobacco  and as much information as i could desire about miss adler  to say nothing of half a doken other people in the neighbourhood in whom i was not in the least interested  but whose biographies i was compelled to listen to   \n",
      "\n"
     ]
    }
   ],
   "source": [
    "g = GeneticAlgorithm()\n",
    "g.train(original_message)"
   ]
  },
  {
   "cell_type": "markdown",
   "metadata": {},
   "source": [
    "As shown, the encryption mapping is getting increasingly accurate "
   ]
  },
  {
   "cell_type": "markdown",
   "metadata": {},
   "source": [
    "get the best mapping and compare with the true mapping"
   ]
  },
  {
   "cell_type": "code",
   "execution_count": 5,
   "metadata": {},
   "outputs": [],
   "source": [
    "best_mapping = g.best_mapping"
   ]
  },
  {
   "cell_type": "markdown",
   "metadata": {},
   "source": [
    "visualize the training progression"
   ]
  },
  {
   "cell_type": "code",
   "execution_count": 7,
   "metadata": {},
   "outputs": [
    {
     "data": {
      "text/plain": [
       "array([-2048.44822984, -1917.7576514 , -1835.94238446, -1783.37730019,\n",
       "       -1750.62059953, -1721.41287668, -1696.68906718, -1674.17453621,\n",
       "       -1655.82205338, -1635.15145027, -1620.76329863, -1607.62487893,\n",
       "       -1594.47823666, -1583.08214209, -1570.39723022, -1559.29873084,\n",
       "       -1550.41946448, -1540.48722667, -1531.25941121, -1523.58542908,\n",
       "       -1514.52536348, -1505.26005647, -1497.58351312, -1491.79753185,\n",
       "       -1485.51824097, -1480.20516626, -1474.58671587, -1469.81712026,\n",
       "       -1465.28503056, -1460.338004  , -1454.74036161, -1449.73545924,\n",
       "       -1445.14897773, -1440.14400366, -1435.71536147, -1430.70480295,\n",
       "       -1426.41304989, -1422.56502367, -1418.57559249, -1414.91728473,\n",
       "       -1410.84135786, -1406.62730295, -1403.35586528, -1399.30680442,\n",
       "       -1395.82828028, -1391.89452453, -1388.41964638, -1384.790284  ,\n",
       "       -1382.15226765, -1380.08878767, -1377.7305029 , -1374.79965662,\n",
       "       -1372.98734329, -1369.97702789, -1366.9317558 , -1364.49234868,\n",
       "       -1362.39151118, -1359.77092394, -1357.39757283, -1354.37447852,\n",
       "       -1350.70169917, -1347.52636089, -1344.84841207, -1342.26611473,\n",
       "       -1339.71805347, -1336.75456993, -1334.20194916, -1331.60186776,\n",
       "       -1328.89715451, -1326.49814819, -1323.94640159, -1321.58317308,\n",
       "       -1319.24104792, -1316.74377767, -1314.34454108, -1312.72049392,\n",
       "       -1310.90381169, -1308.80519359, -1307.26773936, -1305.07784535,\n",
       "       -1303.41253777, -1301.28413381, -1299.00530601, -1297.17973747,\n",
       "       -1295.74116936, -1293.8625728 , -1292.28739471, -1290.04073105,\n",
       "       -1287.97961649, -1285.96740969, -1284.09994438, -1282.1385124 ,\n",
       "       -1280.34120695, -1278.37054401, -1276.69345225, -1275.03820778,\n",
       "       -1273.25565172, -1271.19995945, -1269.20486218, -1266.926308  ,\n",
       "       -1265.14478668, -1263.65054225, -1262.02668103, -1260.47322442,\n",
       "       -1259.01685692, -1257.80864762, -1256.23275325, -1254.81123765,\n",
       "       -1253.42953298, -1251.86529614, -1250.31665795, -1248.75008388,\n",
       "       -1246.93077227, -1245.65430542, -1244.53458594, -1243.21045553,\n",
       "       -1241.99376256, -1240.23545756, -1238.93739469, -1237.54903622,\n",
       "       -1235.96389245, -1234.64232698, -1233.46366451, -1232.50166812,\n",
       "       -1231.2924098 , -1230.13924345, -1228.84597046, -1227.28855985,\n",
       "       -1226.09637626, -1224.95740971, -1223.76153881, -1222.89673867,\n",
       "       -1221.80659984, -1220.74601959, -1219.44710247, -1218.2731565 ,\n",
       "       -1217.48412407, -1216.50620751, -1215.59959196, -1214.63853451,\n",
       "       -1213.46473837, -1212.82888884, -1211.97176284, -1211.23183803,\n",
       "       -1210.31489322, -1209.29810253, -1208.40955864, -1207.71113584,\n",
       "       -1206.57352031, -1205.59165869, -1204.64713146, -1203.92126774,\n",
       "       -1203.07013997, -1202.40751605, -1201.78957976, -1200.9511033 ,\n",
       "       -1200.26657977, -1199.72475061, -1199.13180289, -1198.6237798 ,\n",
       "       -1197.69392123, -1197.0387287 , -1196.26083217, -1195.65089852,\n",
       "       -1194.89951311, -1194.32460895, -1193.5320071 , -1192.75527695,\n",
       "       -1192.10811068, -1191.29176484, -1190.78959023, -1190.05646496,\n",
       "       -1189.43865178, -1188.54423846, -1187.97085507, -1187.23611808,\n",
       "       -1186.4484771 , -1185.67260037, -1184.92771037, -1184.29763019,\n",
       "       -1183.54844356, -1183.0196149 , -1182.40304845, -1181.72123348,\n",
       "       -1181.23389319, -1180.65497232, -1180.16384218, -1179.57764846,\n",
       "       -1179.12775358, -1178.77482228, -1178.27222023, -1177.77213296,\n",
       "       -1177.31987146, -1176.8559599 , -1176.39803028, -1175.84774883,\n",
       "       -1175.36256022, -1175.00704078, -1174.60887852, -1174.25103148,\n",
       "       -1173.7694814 , -1173.23307448, -1172.85537043, -1172.67527399,\n",
       "       -1172.42746676, -1172.00767033, -1171.62396668, -1171.43839156,\n",
       "       -1171.1020715 , -1170.88628833, -1170.51340445, -1170.02620949,\n",
       "       -1169.59819629, -1169.32852567, -1169.12010815, -1168.75601698,\n",
       "       -1168.26885935, -1167.85148559, -1167.56924595, -1167.27576391,\n",
       "       -1166.88837181, -1166.57650275, -1166.10903975, -1165.8961532 ,\n",
       "       -1165.61830721, -1165.33876701, -1165.12049811, -1164.89091463,\n",
       "       -1164.42945931, -1164.23418027, -1163.89523516, -1163.6384671 ,\n",
       "       -1163.24510697, -1162.78141328, -1162.5750481 , -1162.39675501,\n",
       "       -1162.25685262, -1162.03169409, -1161.83196504, -1161.74537257,\n",
       "       -1161.61719959, -1161.49617729, -1161.2098249 , -1161.12197812,\n",
       "       -1161.0014429 , -1160.75143749, -1160.45526771, -1160.35167626,\n",
       "       -1160.21333766, -1160.12068195])"
      ]
     },
     "execution_count": 7,
     "metadata": {},
     "output_type": "execute_result"
    }
   ],
   "source": [
    "g.total_scores_curr_gen"
   ]
  },
  {
   "cell_type": "code",
   "execution_count": null,
   "metadata": {},
   "outputs": [],
   "source": []
  }
 ],
 "metadata": {
  "kernelspec": {
   "display_name": "nlp",
   "language": "python",
   "name": "nlp"
  },
  "language_info": {
   "codemirror_mode": {
    "name": "ipython",
    "version": 3
   },
   "file_extension": ".py",
   "mimetype": "text/x-python",
   "name": "python",
   "nbconvert_exporter": "python",
   "pygments_lexer": "ipython3",
   "version": "3.8.2"
  }
 },
 "nbformat": 4,
 "nbformat_minor": 4
}
